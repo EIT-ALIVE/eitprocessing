{
 "cells": [
  {
   "cell_type": "markdown",
   "metadata": {},
   "source": [
    "### Initialize\n",
    "\n",
    "Import libraries and create a basic plotting function\n"
   ]
  },
  {
   "cell_type": "code",
   "execution_count": 2,
   "metadata": {},
   "outputs": [],
   "source": [
    "from pathlib import Path\n",
    "\n",
    "from matplotlib import pyplot as plt\n",
    "\n",
    "from eitprocessing.datahandling.loading import load_eit_data\n",
    "\n",
    "\n",
    "def plot_gi(data):\n",
    "    t0 = data.time[0]\n",
    "    plt.plot(data.time - t0, data)"
   ]
  },
  {
   "cell_type": "markdown",
   "metadata": {},
   "source": [
    "### Load data\n"
   ]
  },
  {
   "cell_type": "code",
   "execution_count": null,
   "metadata": {},
   "outputs": [],
   "source": [
    "data_directory = Path.cwd().parent / \"tests\" / \"test_data\"\n",
    "data_path = Path(data_directory) / \"Draeger_Test_4.bin\"\n",
    "sequence = load_eit_data(data_path, vendor=\"draeger\")"
   ]
  },
  {
   "cell_type": "markdown",
   "metadata": {},
   "source": [
    "### Visualize the global impedance\n"
   ]
  },
  {
   "cell_type": "code",
   "execution_count": null,
   "metadata": {},
   "outputs": [],
   "source": [
    "gi = sequence.continuous_data[\"global_impedance_(raw)\"]\n",
    "plot_gi(gi)"
   ]
  },
  {
   "cell_type": "markdown",
   "metadata": {},
   "source": [
    "### Select a stable period\n"
   ]
  },
  {
   "cell_type": "code",
   "execution_count": null,
   "metadata": {},
   "outputs": [],
   "source": [
    "t0 = sequence.time[0]\n",
    "shorter_sequence = sequence.select_by_time(t0 + 800, t0 + 830)\n",
    "stable_gi = shorter_sequence.continuous_data[\"global_impedance_(raw)\"]\n",
    "\n",
    "plot_gi(stable_gi)"
   ]
  },
  {
   "cell_type": "markdown",
   "metadata": {},
   "source": [
    "### Perform lowpass filtering on this region\n"
   ]
  },
  {
   "cell_type": "code",
   "execution_count": null,
   "metadata": {},
   "outputs": [],
   "source": [
    "from eitprocessing.filters.butterworth_filters import LowPassFilter\n",
    "\n",
    "MINUTE = 60\n",
    "\n",
    "lp_filter = LowPassFilter(\n",
    "    cutoff_frequency=40 / MINUTE,\n",
    "    order=10,\n",
    "    sample_frequency=sequence.eit_data[\"raw\"].framerate,\n",
    ")\n",
    "\n",
    "filtered_gi = stable_gi.derive(\n",
    "    label=\"global_impedance_(lowpass)\",\n",
    "    function=lp_filter.apply_filter,\n",
    "    func_args={},\n",
    ")\n",
    "\n",
    "shorter_sequence.continuous_data.add(filtered_gi)\n",
    "\n",
    "plot_gi(stable_gi)\n",
    "plot_gi(filtered_gi)"
   ]
  },
  {
   "cell_type": "markdown",
   "metadata": {},
   "source": [
    "### Visualize traceback of derivation\n"
   ]
  },
  {
   "cell_type": "code",
   "execution_count": null,
   "metadata": {},
   "outputs": [],
   "source": [
    "filtered_gi.derived_from"
   ]
  }
 ],
 "metadata": {
  "kernelspec": {
   "display_name": "alive",
   "language": "python",
   "name": "python3"
  },
  "language_info": {
   "codemirror_mode": {
    "name": "ipython",
    "version": 3
   },
   "file_extension": ".py",
   "mimetype": "text/x-python",
   "name": "python",
   "nbconvert_exporter": "python",
   "pygments_lexer": "ipython3",
   "version": "3.10.14"
  }
 },
 "nbformat": 4,
 "nbformat_minor": 2
}
