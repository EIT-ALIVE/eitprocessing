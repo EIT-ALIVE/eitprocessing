{
 "cells": [
  {
   "cell_type": "code",
   "execution_count": 1,
   "metadata": {},
   "outputs": [],
   "source": [
    "from eitprocessing.binreader.sequence import Sequence\n",
    "from eitprocessing.binreader.phases import PhaseIndicator\n",
    "from pathlib import Path\n",
    "\n"
   ]
  },
  {
   "cell_type": "code",
   "execution_count": 2,
   "metadata": {},
   "outputs": [
    {
     "name": "stdout",
     "output_type": "stream",
     "text": [
      "1820\n"
     ]
    }
   ],
   "source": [
    "size = 50\n",
    "\n",
    "draeger_file = Path('/home/dbodor/git/EIT-ALIVE/eitprocessing/test_data/Draeger_Test3.bin')\n",
    "\n",
    "full_data = Sequence.from_path(draeger_file, 'draeger')\n",
    "start_sliced = full_data[:size]\n",
    "start_partial = Sequence.from_path(draeger_file, 'draeger', nframes=size)\n",
    "\n",
    "\n",
    "inverse_size = len(full_data)-size\n",
    "end_sliced = full_data[inverse_size:]\n",
    "end_partial = Sequence.from_path(draeger_file, 'draeger', first_frame=size)\n",
    "\n",
    "print(len(full_data))\n"
   ]
  },
  {
   "cell_type": "code",
   "execution_count": 3,
   "metadata": {},
   "outputs": [
    {
     "name": "stdout",
     "output_type": "stream",
     "text": [
      "Attribute path is identical: True\n",
      "Attribute vendor is identical: True\n",
      "Attribute time is identical: [ True  True  True  True  True  True  True  True  True  True  True  True\n",
      "  True  True  True  True  True  True  True  True  True  True  True  True\n",
      "  True  True  True  True  True  True  True  True  True  True  True  True\n",
      "  True  True  True  True  True  True  True  True  True  True  True  True\n",
      "  True  True]\n",
      "Attribute nframes is identical: True\n",
      "Attribute framerate is identical: True\n",
      "Attribute framesets is identical: True\n",
      "Attribute events is identical: True\n",
      "Attribute timing_errors is identical: True\n",
      "Attribute phases is identical: False\n"
     ]
    }
   ],
   "source": [
    "S_attributes = Sequence.__annotations__\n",
    "\n",
    "for attr in S_attributes:\n",
    "    a = getattr(start_sliced, attr)\n",
    "    b = getattr(start_partial, attr)\n",
    "    print(f'Attribute {attr} is identical:', a == b)"
   ]
  },
  {
   "cell_type": "code",
   "execution_count": 4,
   "metadata": {},
   "outputs": [
    {
     "name": "stdout",
     "output_type": "stream",
     "text": [
      "type: <class 'list'>\n",
      "len: 2\n",
      "\n",
      "MinValue(index=0)\n",
      "MinValue(index=0)\n",
      "<class 'eitprocessing.binreader.phases.MinValue'>\n",
      "<class 'eitprocessing.binreader.phases.MinValue'>\n",
      "False\n",
      "\n",
      "MaxValue(index=27)\n",
      "MaxValue(index=27)\n",
      "<class 'eitprocessing.binreader.phases.MaxValue'>\n",
      "<class 'eitprocessing.binreader.phases.MaxValue'>\n",
      "False\n",
      "\n"
     ]
    }
   ],
   "source": [
    "print('type:', type(start_partial.phases))\n",
    "print('len:', len(start_partial.phases))\n",
    "print('')\n",
    "\n",
    "for x,y in zip(start_partial.phases, start_sliced.phases):\n",
    "    print(x)\n",
    "    print(y)\n",
    "    print(type(x))\n",
    "    print(type(y))\n",
    "    print(x == y)\n",
    "    print('')"
   ]
  },
  {
   "cell_type": "code",
   "execution_count": 12,
   "metadata": {},
   "outputs": [
    {
     "name": "stdout",
     "output_type": "stream",
     "text": [
      "attr: index\n",
      "phase 1\n",
      "0 / 0\n",
      "Attribute index is identical: True\n",
      "\n",
      "attr: time\n",
      "phase 1\n",
      "0.0 / 75628.471\n",
      "Attribute time is identical: False\n",
      "\n",
      "attr: index\n",
      "phase 2\n",
      "27 / 27\n",
      "Attribute index is identical: True\n",
      "\n",
      "attr: time\n",
      "phase 2\n",
      "1.35 / 75629.821\n",
      "Attribute time is identical: False\n",
      "\n"
     ]
    }
   ],
   "source": [
    "P_attributes = PhaseIndicator.__annotations__\n",
    "\n",
    "n=0\n",
    "for a_phase, b_phase in zip(start_sliced.phases, start_partial.phases):\n",
    "    n+=1\n",
    "    for attr in P_attributes:\n",
    "        print('attr:', attr)\n",
    "        print('phase', n)\n",
    "        a = getattr(a_phase, attr)\n",
    "        b = getattr(b_phase, attr)\n",
    "        print(a,'/',b)\n",
    "        print(f'Attribute {attr} is identical:', a == b) \n",
    "        print('')"
   ]
  },
  {
   "cell_type": "code",
   "execution_count": 6,
   "metadata": {},
   "outputs": [
    {
     "name": "stdout",
     "output_type": "stream",
     "text": [
      "type: <class 'list'>\n",
      "len: 22\n",
      "\n",
      "MinValue(index=58)\n",
      "MaxValue(index=49)\n",
      "<class 'eitprocessing.binreader.phases.MinValue'>\n",
      "<class 'eitprocessing.binreader.phases.MaxValue'>\n",
      "False\n",
      "\n"
     ]
    }
   ],
   "source": [
    "print('type:', type(end_partial.phases))\n",
    "print('len:', len(end_partial.phases))\n",
    "print('')\n",
    "\n",
    "for x,y in zip(end_partial.phases, end_sliced.phases):\n",
    "    print(x)\n",
    "    print(y)\n",
    "    print(type(x))\n",
    "    print(type(y))\n",
    "    print(x == y)\n",
    "    print('')"
   ]
  }
 ],
 "metadata": {
  "kernelspec": {
   "display_name": "alive",
   "language": "python",
   "name": "python3"
  },
  "language_info": {
   "codemirror_mode": {
    "name": "ipython",
    "version": 3
   },
   "file_extension": ".py",
   "mimetype": "text/x-python",
   "name": "python",
   "nbconvert_exporter": "python",
   "pygments_lexer": "ipython3",
   "version": "3.10.11"
  },
  "orig_nbformat": 4
 },
 "nbformat": 4,
 "nbformat_minor": 2
}
