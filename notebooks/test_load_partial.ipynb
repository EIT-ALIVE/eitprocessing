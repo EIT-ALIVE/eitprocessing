{
 "cells": [
  {
   "cell_type": "code",
   "execution_count": 1,
   "metadata": {},
   "outputs": [],
   "source": [
    "from eitprocessing.binreader.sequence import Sequence\n",
    "from eitprocessing.binreader.phases import PhaseIndicator\n",
    "from eitprocessing.binreader.event import Event\n",
    "\n",
    "from pathlib import Path\n",
    "import numpy as np\n"
   ]
  },
  {
   "cell_type": "code",
   "execution_count": 2,
   "metadata": {},
   "outputs": [
    {
     "name": "stdout",
     "output_type": "stream",
     "text": [
      "1820\n",
      "91.0\n"
     ]
    },
    {
     "data": {
      "text/plain": [
       "[Event(index=0, start_time=5.0, marker=4, text='')]"
      ]
     },
     "execution_count": 2,
     "metadata": {},
     "output_type": "execute_result"
    }
   ],
   "source": [
    "size = 100\n",
    "\n",
    "draeger_file = Path('/home/dbodor/git/EIT-ALIVE/eitprocessing/test_data/Draeger_Test3.bin')\n",
    "\n",
    "full_data = Sequence.from_path(draeger_file, 'draeger')\n",
    "start_sliced = full_data[:size]\n",
    "start_partial = Sequence.from_path(draeger_file, 'draeger', nframes=size)\n",
    "\n",
    "\n",
    "inverse_size = len(full_data)-size\n",
    "end_sliced = full_data[size:]\n",
    "end_partial = Sequence.from_path(draeger_file, 'draeger', first_frame=size)\n",
    "\n",
    "print(len(full_data))\n",
    "print(len(full_data)/20)\n",
    "\n",
    "len(end_sliced)\n",
    "len(full_data.events)\n",
    "\n",
    "end_partial.events"
   ]
  },
  {
   "cell_type": "code",
   "execution_count": 3,
   "metadata": {},
   "outputs": [],
   "source": [
    "S_attributes = Sequence.__annotations__\n",
    "P_attributes = PhaseIndicator.__annotations__\n",
    "E_attributes = Event.__annotations__\n"
   ]
  },
  {
   "cell_type": "code",
   "execution_count": 4,
   "metadata": {},
   "outputs": [
    {
     "name": "stdout",
     "output_type": "stream",
     "text": [
      "dict_keys(['path', 'vendor', 'time', 'nframes', 'framerate', 'framesets', 'events', 'timing_errors', 'phases'])\n",
      "Attribute path is identical: True\n",
      "Attribute vendor is identical: True\n",
      "Attribute time is identical: [ True  True  True  True  True  True  True  True  True  True  True  True\n",
      "  True  True  True  True  True  True  True  True  True  True  True  True\n",
      "  True  True  True  True  True  True  True  True  True  True  True  True\n",
      "  True  True  True  True  True  True  True  True  True  True  True  True\n",
      "  True  True  True  True  True  True  True  True  True  True  True  True\n",
      "  True  True  True  True  True  True  True  True  True  True  True  True\n",
      "  True  True  True  True  True  True  True  True  True  True  True  True\n",
      "  True  True  True  True  True  True  True  True  True  True  True  True\n",
      "  True  True  True  True]\n",
      "Attribute nframes is identical: True\n",
      "Attribute framerate is identical: True\n",
      "Attribute framesets is identical: True\n",
      "Attribute events is identical: True\n",
      "Attribute timing_errors is identical: True\n",
      "Attribute phases is identical: False\n"
     ]
    }
   ],
   "source": [
    "print(S_attributes.keys())\n",
    "\n",
    "for attr in S_attributes:\n",
    "    a = getattr(start_sliced, attr)\n",
    "    b = getattr(start_partial, attr)\n",
    "    print(f'Attribute {attr} is identical:', a == b)\n",
    "    \n"
   ]
  },
  {
   "cell_type": "code",
   "execution_count": 13,
   "metadata": {},
   "outputs": [
    {
     "name": "stdout",
     "output_type": "stream",
     "text": [
      "MinValue(index=0, time=75628.471)\n",
      "MinValue(index=0, time=0.0)\n",
      "MinValue(index=0, time=75628.471)\n",
      "False\n",
      "True\n",
      "False\n",
      "\n",
      "MaxValue(index=27, time=75629.821)\n",
      "MaxValue(index=27, time=1.35)\n",
      "MaxValue(index=27, time=75629.821)\n",
      "False\n",
      "True\n",
      "False\n",
      "\n"
     ]
    }
   ],
   "source": [
    "for x,y,z in zip(start_partial.phases, start_sliced.phases, full_data.phases):\n",
    "    print(x)\n",
    "    print(y)\n",
    "    print(z)\n",
    "    print(x == y)\n",
    "    print(x == z)\n",
    "    print(y == z)\n",
    "    print('')"
   ]
  },
  {
   "cell_type": "code",
   "execution_count": 6,
   "metadata": {},
   "outputs": [
    {
     "name": "stdout",
     "output_type": "stream",
     "text": [
      "Event(index=0, start_time=0.0, marker=4, text='')\n",
      "Event(index=0, start_time=0.0, marker=4, text='')\n",
      "<class 'eitprocessing.binreader.event.Event'>\n",
      "<class 'eitprocessing.binreader.event.Event'>\n",
      "True\n",
      "\n"
     ]
    }
   ],
   "source": [
    "for x,y in zip(start_partial.events, start_sliced.events):\n",
    "    print(x)\n",
    "    print(y)\n",
    "    print(type(x))\n",
    "    print(type(y))\n",
    "    print(x == y)\n",
    "    print('')\n"
   ]
  },
  {
   "cell_type": "code",
   "execution_count": 7,
   "metadata": {},
   "outputs": [
    {
     "name": "stdout",
     "output_type": "stream",
     "text": [
      "dict_keys(['path', 'vendor', 'time', 'nframes', 'framerate', 'framesets', 'events', 'timing_errors', 'phases'])\n",
      "Attribute path is identical: True\n",
      "Attribute vendor is identical: True\n",
      "Attribute time is identical: [ True  True  True ...  True  True  True]\n",
      "Attribute nframes is identical: True\n",
      "Attribute framerate is identical: True\n",
      "Attribute framesets is identical: True\n",
      "Attribute events is identical: False\n",
      "Attribute timing_errors is identical: True\n",
      "Attribute phases is identical: False\n"
     ]
    }
   ],
   "source": [
    "print(S_attributes.keys())\n",
    "\n",
    "for attr in S_attributes:\n",
    "    a = getattr(end_sliced, attr)\n",
    "    b = getattr(end_partial, attr)\n",
    "    print(f'Attribute {attr} is identical:', a == b)"
   ]
  }
 ],
 "metadata": {
  "kernelspec": {
   "display_name": "alive",
   "language": "python",
   "name": "python3"
  },
  "language_info": {
   "codemirror_mode": {
    "name": "ipython",
    "version": 3
   },
   "file_extension": ".py",
   "mimetype": "text/x-python",
   "name": "python",
   "nbconvert_exporter": "python",
   "pygments_lexer": "ipython3",
   "version": "3.10.11"
  },
  "orig_nbformat": 4
 },
 "nbformat": 4,
 "nbformat_minor": 2
}
