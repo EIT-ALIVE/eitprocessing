{
 "cells": [
  {
   "cell_type": "markdown",
   "id": "d245cd56",
   "metadata": {},
   "source": [
    "# EIT-binary\n",
    "\n",
    "This is an example file explaining how to work with the EIT-binary package. Data is loaded from an example file.\n",
    "\n",
    "Data is loaded as a sequence of consecutive frames.\n",
    "A sequence can consist of an entire measurement or be split up as separate sections of a measurement.\n"
   ]
  },
  {
   "cell_type": "code",
   "execution_count": 1,
   "id": "73095b07",
   "metadata": {},
   "outputs": [],
   "source": [
    "from pathlib import Path\n",
    "\n",
    "from eitprocessing.datahandling.eitdata import EITData\n",
    "from eitprocessing.datahandling.loading import load_eit_data\n"
   ]
  },
  {
   "cell_type": "markdown",
   "id": "a45bb205",
   "metadata": {},
   "source": [
    "### Download data and load it into eitprocessing\n",
    "\n",
    "We have some sample data store at XXX. Alternatively, you can use your own data in this notebook.\n"
   ]
  },
  {
   "cell_type": "code",
   "execution_count": null,
   "id": "b616806b",
   "metadata": {},
   "outputs": [],
   "source": [
    "# TODO: make this cell download remote data and then load it\n",
    "vendor = \"draeger\"\n",
    "\n",
    "# data_directory = Path.cwd().parent / \"tests\" / \"test_data\" / \"pig\"\n",
    "# path = Path(data_directory) / \"pig_04_22.bin\"\n",
    "\n",
    "data_directory = Path.cwd().parent / \"tests\" / \"test_data\"\n",
    "path = data_directory / \"Draeger_Test3.bin\"\n",
    "\n",
    "measurement = load_eit_data(path, vendor=vendor)\n",
    "\n",
    "len(measurement)"
   ]
  },
  {
   "cell_type": "markdown",
   "id": "5cfd3f61",
   "metadata": {},
   "source": [
    "A sequence can be sliced to select a subset of frames.\n"
   ]
  },
  {
   "cell_type": "code",
   "execution_count": null,
   "id": "20db7313",
   "metadata": {},
   "outputs": [],
   "source": [
    "short_section = measurement[:500]\n",
    "# short_section = measurement\n",
    "len(short_section)"
   ]
  },
  {
   "attachments": {},
   "cell_type": "markdown",
   "id": "8ff77b5a",
   "metadata": {},
   "source": [
    "A sequence contains information about the entire measurement and/or the selected section: the number of frames, which framesets are available, the time range, path to the source file, and sample frequency.\n",
    "Some attributes are hidden when printing to preserve screen space.\n"
   ]
  },
  {
   "cell_type": "code",
   "execution_count": null,
   "id": "78d3f45f",
   "metadata": {},
   "outputs": [],
   "source": [
    "# TODO: I think this cell was just for testing purposes\n",
    "\n",
    "import numpy as np\n",
    "\n",
    "np.set_printoptions(threshold=10)  # prevents printing of the entire time array\n",
    "\n",
    "from pprint import pprint\n",
    "\n",
    "pprint(measurement)\n",
    "pprint(short_section)"
   ]
  },
  {
   "attachments": {},
   "cell_type": "markdown",
   "id": "580b2c62",
   "metadata": {},
   "source": [
    "## Framesets\n",
    "\n",
    "Data is contained within framesets.\n",
    "A frameset contains data that has been processed or edited in some way.\n",
    "By default, loaded data only contains raw impedance data, without any processing.\n",
    "\n",
    "Impedance data is available as the `pixel_impedance` attribute, which is a `np.ndarray` with three dimensions: time, rows, columns.\n",
    "\n",
    "#TODO: Framesets don't exist any more, I think they are roughly equivalent to a DataCollection\n"
   ]
  },
  {
   "cell_type": "code",
   "execution_count": null,
   "id": "8f83727d",
   "metadata": {},
   "outputs": [],
   "source": [
    "raw_impedance_data: EITData = short_section.eit_data[\"raw\"]\n",
    "\n",
    "pprint(raw_impedance_data)\n",
    "print(type(raw_impedance_data))\n",
    "print(type(short_section.eit_data))\n",
    "print(\"shape:\", raw_impedance_data.pixel_impedance.shape, \"=> (index, row, colum)\")"
   ]
  },
  {
   "cell_type": "markdown",
   "id": "976fbb74",
   "metadata": {},
   "source": [
    "You can deepcopy a frameset to create differently processed framesets.\n",
    "Deepcopying prevents sharing mutable attributes, e.g. the `params` dict.\n",
    "The example below uses the `Framset.pixel_baseline` property, which contains the lowest value per pixel over all frames in the sequence.\n"
   ]
  },
  {
   "cell_type": "code",
   "execution_count": null,
   "id": "56ff93f9",
   "metadata": {},
   "outputs": [],
   "source": [
    "bc = raw_impedance_data.deepcopy()\n",
    "pixel_baseline = bc.pixel_impedance.min(axis=0)\n",
    "\n",
    "bc.name = \"baseline_corrected\"\n",
    "bc.description = \"raw data with a baseline correction for this section\"\n",
    "bc.label = \"bc\"\n",
    "bc.pixel_impedance = bc.pixel_impedance - pixel_baseline\n",
    "short_section.eit_data.add(bc)\n",
    "\n",
    "pprint(short_section.eit_data)"
   ]
  },
  {
   "cell_type": "code",
   "execution_count": null,
   "id": "903b25ed",
   "metadata": {},
   "outputs": [],
   "source": [
    "from matplotlib import pyplot as plt\n",
    "\n",
    "x = short_section.time - short_section.time[0]\n",
    "\n",
    "plt.plot(x, raw_impedance_data.calculate_global_impedance(), label=\"raw\")\n",
    "plt.plot(x, bc.calculate_global_impedance(), label=\"baseline corrected\")\n",
    "plt.xlabel(\"Time (s)\")\n",
    "plt.ylabel(\"Impedance (AU)\")\n",
    "plt.legend()"
   ]
  },
  {
   "attachments": {},
   "cell_type": "markdown",
   "id": "4945cfd3",
   "metadata": {},
   "source": [
    "## Pixel data\n",
    "\n",
    "Pixel impedance data can be accessed by indexing pixel_impedance by row and column numbers.\n",
    "Both are zero-indexed, with (0, 0) being the top left of the image (anterior right of the subject).\n"
   ]
  },
  {
   "cell_type": "code",
   "execution_count": null,
   "id": "29d53229",
   "metadata": {},
   "outputs": [],
   "source": [
    "pixel_A = bc.pixel_impedance[:, 17, 10]  # foreground pixel\n",
    "pixel_B = bc.pixel_impedance[:, 12, 20]  # background pixel\n",
    "\n",
    "\n",
    "plt.plot(x, pixel_A, label=\"foreground pixel\")\n",
    "plt.plot(x, pixel_B, label=\"background pixel\")\n",
    "plt.xlabel(\"Time (s)\")\n",
    "plt.ylabel(\"Impedance (AU)\")\n",
    "plt.legend()\n"
   ]
  },
  {
   "attachments": {},
   "cell_type": "markdown",
   "id": "62f374d2",
   "metadata": {},
   "source": [
    "## Events\n",
    "\n",
    "If a sequence contains events, they are loaded and available in the `events` attribute.\n"
   ]
  },
  {
   "cell_type": "code",
   "execution_count": null,
   "id": "000d08be",
   "metadata": {},
   "outputs": [],
   "source": [
    "plt.plot(raw_impedance_data.time, raw_impedance_data.calculate_global_impedance())\n",
    "for i, (max, min) in enumerate(\n",
    "    zip(short_section.sparse_data[\"maxvalues_(draeger)\"], short_section.sparse_data[\"minvalues_(draeger)\"])\n",
    "):\n",
    "    print(i)\n",
    "    plt.axvline(max.time, color=\"g\")\n",
    "    plt.axvline(min.time, color=\"r\")\n"
   ]
  },
  {
   "cell_type": "markdown",
   "id": "d52d64cc",
   "metadata": {},
   "source": [
    "When slicing a sequence, the list of events is also sliced and reindexed, so only events occurring during a sequence are available.\n"
   ]
  },
  {
   "cell_type": "code",
   "execution_count": null,
   "id": "338aff7e",
   "metadata": {},
   "outputs": [],
   "source": [
    "pprint(measurement[1000:1200].sparse_data.events)"
   ]
  },
  {
   "attachments": {},
   "cell_type": "markdown",
   "id": "9b4874d6",
   "metadata": {},
   "source": [
    "## End of inspiration and end of expiration\n",
    "\n",
    "Dräger EIT files have \"minmax\" indicators indicating the start and end of breaths.\n",
    "They are loaded in the `phases` attribute.\n",
    "The reliability of these indicators is limited.\n"
   ]
  },
  {
   "cell_type": "code",
   "execution_count": null,
   "id": "a87b527d",
   "metadata": {},
   "outputs": [],
   "source": [
    "from eitprocessing.binreader import MaxValue, MinValue\n",
    "\n",
    "pprint(short_section.phases)\n",
    "\n",
    "plt.plot(short_section.time, short_section.framesets[\"bc\"].global_impedance)\n",
    "\n",
    "for indicator in filter(lambda x: isinstance(x, MaxValue), short_section.phases):\n",
    "    plt.axvline(short_section.time[indicator.index], 0.95, 1, color=\"r\")\n",
    "\n",
    "for indicator in filter(lambda x: isinstance(x, MinValue), short_section.phases):\n",
    "    plt.axvline(short_section.time[indicator.index], 0.0, 0.05, color=\"g\")"
   ]
  },
  {
   "attachments": {},
   "cell_type": "markdown",
   "id": "2826b3b8",
   "metadata": {},
   "source": [
    "## Accessing and plotting single frames\n"
   ]
  },
  {
   "cell_type": "code",
   "execution_count": null,
   "id": "15b807c2",
   "metadata": {},
   "outputs": [],
   "source": [
    "# Select the first MinValue and first MaxValue objects\n",
    "min_value = next(filter(lambda x: isinstance(x, MinValue), short_section.phases))\n",
    "max_value = next(filter(lambda x: isinstance(x, MaxValue), short_section.phases))\n",
    "\n",
    "# Select the pixel data for the selected frames\n",
    "min_data = short_section.framesets[\"bc\"].pixel_impedance[min_value.index, :, :]\n",
    "max_data = short_section.framesets[\"bc\"].pixel_impedance[max_value.index, :, :]\n",
    "\n",
    "# Get overall minimum and maximum values\n",
    "vmin = np.min([min_data, max_data])\n",
    "vmax = np.max([min_data, max_data])\n",
    "\n",
    "# Create subplots\n",
    "fig, ax = plt.subplots(1, 2)\n",
    "\n",
    "# Create image\n",
    "ax[0].imshow(min_data, vmin=vmin, vmax=vmax)\n",
    "ax[1].imshow(max_data, vmin=vmin, vmax=vmax)\n",
    "\n",
    "ax[0].set(title=\"End-expiration\")\n",
    "ax[1].set(title=\"End-inspiration\")"
   ]
  },
  {
   "attachments": {},
   "cell_type": "markdown",
   "id": "a5514969",
   "metadata": {},
   "source": [
    "## Animating frameset\n"
   ]
  },
  {
   "cell_type": "code",
   "execution_count": null,
   "id": "2d8e13f6",
   "metadata": {},
   "outputs": [],
   "source": [
    "short_section.framesets[\"bc\"].animate()"
   ]
  },
  {
   "attachments": {},
   "cell_type": "markdown",
   "id": "4f6ab67c",
   "metadata": {},
   "source": [
    "## Simple filtering\n"
   ]
  },
  {
   "cell_type": "code",
   "execution_count": null,
   "id": "463f7052",
   "metadata": {
    "lines_to_next_cell": 1
   },
   "outputs": [],
   "source": [
    "from eitprocessing.filters.butterworth_filters import LowPassFilter\n",
    "\n",
    "MINUTE = 60  # seconds\n",
    "\n",
    "lp_filter = LowPassFilter(\n",
    "    cutoff_frequency=30 / MINUTE,\n",
    "    order=1,\n",
    "    sample_frequency=raw_impedance_data.framerate,\n",
    ")\n",
    "\n",
    "filtered_gi = short_section.continuous_data[\"global_impedance_(raw)\"].derive(\n",
    "    label=\"global_impedance_(lowpass)\",\n",
    "    function=lp_filter.apply_filter,\n",
    "    func_args={},\n",
    ")\n",
    "\n",
    "plt.plot(short_section.time, raw_impedance_data.calculate_global_impedance(), label=\"raw\")\n",
    "plt.plot(short_section.time, filtered_gi, label=\"low-pass filtered\")\n",
    "plt.legend()"
   ]
  }
 ],
 "metadata": {
  "jupytext": {
   "cell_metadata_filter": "-all",
   "main_language": "python",
   "notebook_metadata_filter": "-all"
  },
  "kernelspec": {
   "display_name": "alive",
   "language": "python",
   "name": "python3"
  },
  "language_info": {
   "codemirror_mode": {
    "name": "ipython",
    "version": 3
   },
   "file_extension": ".py",
   "mimetype": "text/x-python",
   "name": "python",
   "nbconvert_exporter": "python",
   "pygments_lexer": "ipython3",
   "version": "3.10.14"
  }
 },
 "nbformat": 4,
 "nbformat_minor": 5
}
