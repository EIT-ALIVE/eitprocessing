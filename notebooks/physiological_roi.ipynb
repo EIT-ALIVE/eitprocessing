{
 "cells": [
  {
   "cell_type": "code",
   "execution_count": 1,
   "metadata": {},
   "outputs": [],
   "source": [
    "import numpy as np\n",
    "from eitprocessing.binreader import Sequence"
   ]
  },
  {
   "cell_type": "code",
   "execution_count": 2,
   "metadata": {},
   "outputs": [],
   "source": [
    "file_path = '' #input path to test file \n",
    "FRAMERATE = 50 # Standard framerate\n",
    "VENDOR = 'Timpel' # Vendor of EIT device used for data acquisition "
   ]
  },
  {
   "cell_type": "code",
   "execution_count": 3,
   "metadata": {},
   "outputs": [],
   "source": [
    "ignore_nan_columns = True\n",
    "ignore_nan_rows = True"
   ]
  },
  {
   "cell_type": "code",
   "execution_count": 4,
   "metadata": {},
   "outputs": [
    {
     "name": "stderr",
     "output_type": "stream",
     "text": [
      "/Users/juliettefrancovich/Documents/KT/TM3/eitprocessing/eitprocessing/binreader/sequence.py:515: UserWarning: The number of frames requested (None) is largerthan the available number (180288) of frames after the first frame selected (0).\n",
      "180288 frames have been loaded.\n",
      "  warnings.warn(\n"
     ]
    }
   ],
   "source": [
    "measurement = Sequence.from_path(path=file_path, vendor=VENDOR, framerate=FRAMERATE)"
   ]
  },
  {
   "cell_type": "code",
   "execution_count": 5,
   "metadata": {},
   "outputs": [],
   "source": [
    "short_section = measurement[80140:81600]"
   ]
  },
  {
   "cell_type": "code",
   "execution_count": 6,
   "metadata": {},
   "outputs": [
    {
     "name": "stderr",
     "output_type": "stream",
     "text": [
      "/Users/juliettefrancovich/Documents/KT/TM3/eitprocessing/eitprocessing/binreader/frameset.py:82: RuntimeWarning: All-NaN slice encountered\n",
      "  return np.nanmin(self.pixel_values, axis=0)\n"
     ]
    }
   ],
   "source": [
    "bc = short_section.framesets['raw'].deepcopy()\n",
    "bc.name = 'baseline_corrected'\n",
    "bc.description = 'raw data with a baseline correction for this section'\n",
    "bc.pixel_values = bc.pixel_values - bc.pixel_baseline\n",
    "bc.params.update({'pre-processing': 'pixel baseline correction'})\n",
    "short_section.framesets['bc'] = bc"
   ]
  },
  {
   "cell_type": "code",
   "execution_count": 7,
   "metadata": {},
   "outputs": [],
   "source": [
    "pixel_values = short_section.framesets['bc'].pixel_values"
   ]
  },
  {
   "cell_type": "code",
   "execution_count": 8,
   "metadata": {},
   "outputs": [],
   "source": [
    "matrix = pixel_values[300, :, :]"
   ]
  },
  {
   "cell_type": "code",
   "execution_count": 49,
   "metadata": {},
   "outputs": [],
   "source": [
    "horizontal = True"
   ]
  },
  {
   "cell_type": "code",
   "execution_count": 50,
   "metadata": {},
   "outputs": [],
   "source": [
    "n_groups = 4"
   ]
  },
  {
   "cell_type": "code",
   "execution_count": 51,
   "metadata": {},
   "outputs": [],
   "source": [
    "## Test geometrical split\n",
    "\n",
    "axis = 0 if horizontal else 1\n",
    "\n",
    "# create a vector that is nan if the entire column/row is nan, 1 otherwise\n",
    "vector_is_nan = np.all(np.isnan(matrix), axis=axis)\n",
    "vector = np.ones(vector_is_nan.shape)\n",
    "\n",
    "if (horizontal and ignore_nan_columns) or (\n",
    "    not horizontal and ignore_nan_rows\n",
    "):\n",
    "    vector[vector_is_nan] = np.nan\n",
    "\n",
    "    # remove non-numeric (nan) elements at vector ends\n",
    "    # nan elements between numeric elements are kept\n",
    "    numeric_element_indices = np.argwhere(~np.isnan(vector))\n",
    "    first_num_element = numeric_element_indices.min()\n",
    "    last_num_element = numeric_element_indices.max()\n",
    "else:\n",
    "    first_num_element = 0\n",
    "    last_num_element = len(vector) - 1\n",
    "\n",
    "n_elements = last_num_element - first_num_element + 1\n",
    "\n",
    "group_size = n_elements / n_groups\n",
    "\n",
    "if group_size < 1:\n",
    "    if horizontal:\n",
    "        print(f\"The number of horizontal regions ({n_groups}) is larger than the number of available columns ({n_elements}).\")\n",
    "    else:\n",
    "        print(f\"The number of vertical regions ({n_groups}) is larger than the number of available columns ({n_elements}).\")\n",
    "\n",
    "# find the right boundaries (upper values) of each group\n",
    "right_boundaries = (np.arange(n_groups) + 1) * group_size\n",
    "right_boundaries = right_boundaries[:, np.newaxis]  # converts to row vector\n",
    "\n",
    "# each row in the base represents one group\n",
    "base = np.tile(np.arange(n_elements), (n_groups, 1))\n",
    "\n",
    "# if the element number is higher than the split, it does not belong in this group\n",
    "element_contribution_to_group = right_boundaries - base\n",
    "element_contribution_to_group[element_contribution_to_group < 0] = 0\n",
    "\n",
    "# if the element to the right is a full group size, this element is ruled out\n",
    "rule_out = element_contribution_to_group[:, 1:] >= group_size\n",
    "element_contribution_to_group[:, :-1][rule_out] = 0\n",
    "\n",
    "# elements have a maximum value of 1\n",
    "element_contribution_to_group = np.fmin(element_contribution_to_group, 1)\n",
    "\n",
    "# if this element is already represented in the previous group (row), subtract that\n",
    "element_contribution_to_group[1:] -= element_contribution_to_group[:-1]\n",
    "element_contribution_to_group[element_contribution_to_group < 0] = 0\n",
    "\n",
    "# element_contribution_to_group only represents non-nan elements\n",
    "# insert into final including non-nan elements\n",
    "final = np.full((n_groups, len(vector)), np.nan)\n",
    "final[\n",
    "    :, first_num_element : last_num_element + 1\n",
    "] = element_contribution_to_group\n",
    "\n",
    "# convert to list of vectors\n",
    "final = [final[n, :] for n in range(final.shape[0])]\n"
   ]
  },
  {
   "cell_type": "code",
   "execution_count": 52,
   "metadata": {},
   "outputs": [],
   "source": [
    "## Test physiological split\n",
    "\n",
    "axis = 0 if horizontal else 1\n",
    "\n",
    "# create a vector that is nan if the entire column/row is nan, 1 otherwise\n",
    "vector_is_nan = np.all(np.isnan(matrix), axis=axis)\n",
    "vector = np.ones(vector_is_nan.shape)\n",
    "\n",
    "if (horizontal and ignore_nan_columns) or (\n",
    "    not horizontal and ignore_nan_rows\n",
    "):\n",
    "    vector[vector_is_nan] = np.nan\n",
    "\n",
    "    # remove non-numeric (nan) elements at vector ends\n",
    "    # nan elements between numeric elements are kept\n",
    "    numeric_element_indices = np.argwhere(~np.isnan(vector))\n",
    "    first_num_element = numeric_element_indices.min()\n",
    "    last_num_element = numeric_element_indices.max()\n",
    "else:\n",
    "    first_num_element = 0\n",
    "    last_num_element = len(vector) - 1\n",
    "\n",
    "n_elements = last_num_element - first_num_element + 1\n",
    "\n",
    "group_size = n_elements / n_groups\n",
    "\n",
    "if group_size < 1:\n",
    "    if horizontal:\n",
    "        print(f\"The number of horizontal regions ({n_groups}) is larger than the number of available columns ({n_elements}).\")\n",
    "    else:\n",
    "        print(f\"The number of vertical regions ({n_groups}) is larger than the number of available columns ({n_elements}).\")\n",
    "\n",
    "sum_along_axis = np.nansum(matrix, axis=axis)\n",
    "relative_sum_along_axis = sum_along_axis / np.nansum(matrix)\n",
    "relative_cumsum_along_axis = np.cumsum(relative_sum_along_axis)\n",
    "\n",
    "lower_bounds = np.arange(n_groups) / n_groups\n",
    "upper_bounds = (np.arange(n_groups) + 1) / n_groups\n",
    "\n",
    "# Otherwise the first row will not fall in the first region (because they are 0) \n",
    "# and last rows will not fall in the last region, because they reach 1.0\n",
    "lower_bounds[0] = -np.inf\n",
    "upper_bounds[-1] = np.inf\n",
    "\n",
    "row_in_region = []\n",
    "\n",
    "for lower_bound, upper_bound in zip(lower_bounds, upper_bounds):\n",
    "    row_in_region.append(\n",
    "        np.logical_and(\n",
    "            relative_cumsum_along_axis > lower_bound, relative_cumsum_along_axis <= upper_bound\n",
    "        )\n",
    "    )\n",
    "\n",
    "row_in_region = np.array(row_in_region).T\n",
    "final = row_in_region.astype(float)\n",
    "\n",
    "# find initial region for each row\n",
    "initial_regions = np.apply_along_axis(np.flatnonzero, 1, row_in_region).flatten()\n",
    "\n",
    "# find transitions between regions\n",
    "region_borders = np.flatnonzero(np.diff(initial_regions))\n",
    "\n",
    "divide_y_positions = []\n",
    "\n",
    "# finds overlap in transition region\n",
    "for previous_region, (ventral_row, upper_bound) in enumerate(\n",
    "    zip(region_borders, upper_bounds)\n",
    "):\n",
    "    dorsal_row = ventral_row + 1\n",
    "    next_region = previous_region + 1\n",
    "    a, b = relative_cumsum_along_axis[ventral_row], relative_cumsum_along_axis[dorsal_row]\n",
    "    diff = b - a\n",
    "    to_a = upper_bound - a\n",
    "    fraction_to_a = to_a / diff\n",
    "    fraction_to_b = 1 - fraction_to_a\n",
    "\n",
    "    final[dorsal_row, previous_region] = fraction_to_a\n",
    "    final[dorsal_row, next_region] = fraction_to_b\n",
    "final = final.T\n",
    "final = final * vector\n",
    "# convert to list of vectors\n",
    "final = [final[n, :] for n in range(final.shape[0])]"
   ]
  },
  {
   "cell_type": "code",
   "execution_count": 88,
   "metadata": {},
   "outputs": [],
   "source": [
    "from eitprocessing.roi_selection.gridselection import GridSelection, DivisionMethod\n",
    "\n",
    "grid_select = GridSelection(2,2,DivisionMethod.physiological, DivisionMethod.physiological)"
   ]
  },
  {
   "cell_type": "code",
   "execution_count": 89,
   "metadata": {},
   "outputs": [],
   "source": [
    "matrices = grid_select.find_grid(matrix)"
   ]
  },
  {
   "cell_type": "code",
   "execution_count": 94,
   "metadata": {},
   "outputs": [],
   "source": [
    "a = matrices[0]"
   ]
  }
 ],
 "metadata": {
  "kernelspec": {
   "display_name": "ALIVE",
   "language": "python",
   "name": "python3"
  },
  "language_info": {
   "codemirror_mode": {
    "name": "ipython",
    "version": 3
   },
   "file_extension": ".py",
   "mimetype": "text/x-python",
   "name": "python",
   "nbconvert_exporter": "python",
   "pygments_lexer": "ipython3",
   "version": "3.10.11"
  }
 },
 "nbformat": 4,
 "nbformat_minor": 2
}
