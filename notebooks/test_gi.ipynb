{
 "cells": [
  {
   "cell_type": "code",
   "execution_count": 1,
   "metadata": {},
   "outputs": [],
   "source": [
    "from eitprocessing.parameters.global_inhomogeneity import GlobalInhomogeneity\n",
    "import numpy as np"
   ]
  },
  {
   "cell_type": "code",
   "execution_count": 2,
   "metadata": {},
   "outputs": [],
   "source": [
    "gi_detector = GlobalInhomogeneity()"
   ]
  },
  {
   "cell_type": "code",
   "execution_count": 3,
   "metadata": {},
   "outputs": [],
   "source": [
    "# Define the dimensions\n",
    "shape = (10, 32, 32)\n",
    "\n",
    "# Generate a random array with values\n",
    "random_values = np.random.rand(*shape)\n",
    "\n",
    "# Create a mask for NaN values\n",
    "nan_mask = np.random.rand(*shape) < 0.2  # Adjust the threshold as needed\n",
    "\n",
    "# Set random NaN values in the array\n",
    "random_values[nan_mask] = np.nan"
   ]
  },
  {
   "cell_type": "code",
   "execution_count": 4,
   "metadata": {},
   "outputs": [],
   "source": [
    "pixel_dZ = random_values"
   ]
  },
  {
   "cell_type": "code",
   "execution_count": 5,
   "metadata": {},
   "outputs": [
    {
     "data": {
      "text/plain": [
       "[49.83792699364653,\n",
       " 47.607207979709294,\n",
       " 52.85050427507895,\n",
       " 49.133486944051185,\n",
       " 49.43985504274765,\n",
       " 47.40224546556365,\n",
       " 50.02872751272353,\n",
       " 48.9188575833165,\n",
       " 48.417127863206524,\n",
       " 50.05785509973718]"
      ]
     },
     "execution_count": 5,
     "metadata": {},
     "output_type": "execute_result"
    }
   ],
   "source": [
    "gi_detector.compute_parameter(pixel_dZ)"
   ]
  }
 ],
 "metadata": {
  "kernelspec": {
   "display_name": "ALIVE",
   "language": "python",
   "name": "python3"
  },
  "language_info": {
   "codemirror_mode": {
    "name": "ipython",
    "version": 3
   },
   "file_extension": ".py",
   "mimetype": "text/x-python",
   "name": "python",
   "nbconvert_exporter": "python",
   "pygments_lexer": "ipython3",
   "version": "3.10.11"
  }
 },
 "nbformat": 4,
 "nbformat_minor": 2
}
