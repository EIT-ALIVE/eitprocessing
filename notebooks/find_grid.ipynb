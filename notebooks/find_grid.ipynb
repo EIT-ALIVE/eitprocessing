{
 "cells": [
  {
   "cell_type": "code",
   "execution_count": 110,
   "metadata": {},
   "outputs": [
    {
     "data": {
      "text/plain": [
       "array([[nan, nan, nan, nan,  1.],\n",
       "       [nan,  1.,  1.,  3., nan],\n",
       "       [nan,  1.,  2.,  3., nan],\n",
       "       [nan, nan, nan, nan, nan]])"
      ]
     },
     "metadata": {},
     "output_type": "display_data"
    }
   ],
   "source": [
    "from types import SimpleNamespace\n",
    "import numpy as np\n",
    "import bisect\n",
    "a = np.array([[np.nan, np.nan, np.nan, np.nan, 1],[np.nan, 1, 1, 3, np.nan], [np.nan, 1, 2, 3, np.nan], [np.nan, np.nan, np.nan, np.nan, np.nan]])\n",
    "\n",
    "data = a\n",
    "display(data)\n",
    "\n",
    "self = SimpleNamespace()\n",
    "self.h_split = 3\n",
    "self.v_split = 2"
   ]
  },
  {
   "cell_type": "code",
   "execution_count": 111,
   "metadata": {},
   "outputs": [
    {
     "data": {
      "text/plain": [
       "array([0, 2, 2, 2, 1])"
      ]
     },
     "metadata": {},
     "output_type": "display_data"
    },
    {
     "data": {
      "text/plain": [
       "array([[1],\n",
       "       [2],\n",
       "       [3],\n",
       "       [4]])"
      ]
     },
     "metadata": {},
     "output_type": "display_data"
    },
    {
     "data": {
      "text/plain": [
       "1"
      ]
     },
     "metadata": {},
     "output_type": "display_data"
    },
    {
     "data": {
      "text/plain": [
       "4"
      ]
     },
     "metadata": {},
     "output_type": "display_data"
    },
    {
     "data": {
      "text/plain": [
       "[1, 3, 4, 5]"
      ]
     },
     "execution_count": 111,
     "metadata": {},
     "output_type": "execute_result"
    }
   ],
   "source": [
    "numeric_cols = (~np.isnan(data)).sum(0)\n",
    "cols_with_numbers = np.argwhere(numeric_cols > 0)\n",
    "first_col_with_number = cols_with_numbers.min()\n",
    "last_col_with_numer = cols_with_numbers.max()\n",
    "\n",
    "n_columns = last_col_with_numer - first_col_with_number + 1\n",
    "\n",
    "n_columns_per_group = n_columns / self.h_split\n",
    "\n",
    "display(numeric_cols, cols_with_numbers, first_col_with_number, last_col_with_numer)\n",
    "\n",
    "col_splits = [\n",
    "    first_col_with_number + bisect.bisect_left(np.arange(n_columns), c * n_columns_per_group)\n",
    "    for c in range(0, self.h_split)\n",
    "] + [last_col_with_numer+1]\n",
    "\n",
    "col_splits\n",
    "\n"
   ]
  },
  {
   "cell_type": "code",
   "execution_count": 112,
   "metadata": {},
   "outputs": [
    {
     "data": {
      "text/plain": [
       "array([[False, False, False, False,  True],\n",
       "       [False,  True,  True,  True, False],\n",
       "       [False,  True,  True,  True, False],\n",
       "       [False, False, False, False, False]])"
      ]
     },
     "execution_count": 112,
     "metadata": {},
     "output_type": "execute_result"
    }
   ],
   "source": [
    "A  = ~np.isnan(data)\n",
    "A"
   ]
  },
  {
   "cell_type": "code",
   "execution_count": 113,
   "metadata": {},
   "outputs": [
    {
     "data": {
      "text/plain": [
       "array([[False, False, False, False, False],\n",
       "       [False,  True,  True, False, False],\n",
       "       [False,  True,  True, False, False],\n",
       "       [False, False, False, False, False]])"
      ]
     },
     "metadata": {},
     "output_type": "display_data"
    },
    {
     "data": {
      "text/plain": [
       "array([[False, False, False, False, False],\n",
       "       [False, False, False,  True, False],\n",
       "       [False, False, False,  True, False],\n",
       "       [False, False, False, False, False]])"
      ]
     },
     "metadata": {},
     "output_type": "display_data"
    },
    {
     "data": {
      "text/plain": [
       "array([[False, False, False, False,  True],\n",
       "       [False, False, False, False, False],\n",
       "       [False, False, False, False, False],\n",
       "       [False, False, False, False, False]])"
      ]
     },
     "metadata": {},
     "output_type": "display_data"
    }
   ],
   "source": [
    "import itertools\n",
    "for splits in itertools.pairwise(col_splits):\n",
    "    matrix = A.copy()\n",
    "    matrix[:, :splits[0]] = False\n",
    "    matrix[:, splits[1]:] = False\n",
    "    display(matrix)"
   ]
  },
  {
   "cell_type": "code",
   "execution_count": 87,
   "metadata": {},
   "outputs": [
    {
     "data": {
      "text/plain": [
       "[0, 2]"
      ]
     },
     "execution_count": 87,
     "metadata": {},
     "output_type": "execute_result"
    }
   ],
   "source": [
    "col_splits"
   ]
  },
  {
   "cell_type": "code",
   "execution_count": null,
   "metadata": {},
   "outputs": [],
   "source": []
  }
 ],
 "metadata": {
  "kernelspec": {
   "display_name": "alive",
   "language": "python",
   "name": "python3"
  },
  "language_info": {
   "codemirror_mode": {
    "name": "ipython",
    "version": 3
   },
   "file_extension": ".py",
   "mimetype": "text/x-python",
   "name": "python",
   "nbconvert_exporter": "python",
   "pygments_lexer": "ipython3",
   "version": "3.10.12"
  },
  "orig_nbformat": 4
 },
 "nbformat": 4,
 "nbformat_minor": 2
}
