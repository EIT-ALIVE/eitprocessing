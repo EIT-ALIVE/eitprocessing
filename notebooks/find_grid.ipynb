{
 "cells": [
  {
   "cell_type": "code",
   "execution_count": 1,
   "metadata": {},
   "outputs": [
    {
     "data": {
      "text/plain": [
       "array([[nan, nan, nan, nan,  1.],\n",
       "       [nan,  1.,  1.,  3., nan],\n",
       "       [nan,  1.,  2.,  3., nan],\n",
       "       [nan, nan, nan, nan, nan]])"
      ]
     },
     "metadata": {},
     "output_type": "display_data"
    }
   ],
   "source": [
    "from types import SimpleNamespace\n",
    "import numpy as np\n",
    "import bisect\n",
    "a = np.array([[np.nan, np.nan, np.nan, np.nan, 1],[np.nan, 1, 1, 3, np.nan], [np.nan, 1, 2, 3, np.nan], [np.nan, np.nan, np.nan, np.nan, np.nan]])\n",
    "\n",
    "data = a\n",
    "display(data)\n",
    "\n",
    "self = SimpleNamespace()\n",
    "self.h_split = 2\n",
    "self.v_split = 2"
   ]
  },
  {
   "cell_type": "code",
   "execution_count": 9,
   "metadata": {},
   "outputs": [
    {
     "data": {
      "text/plain": [
       "array([[False, False, False, False,  True],\n",
       "       [False,  True,  True,  True, False],\n",
       "       [False,  True,  True,  True, False],\n",
       "       [False, False, False, False, False]])"
      ]
     },
     "execution_count": 9,
     "metadata": {},
     "output_type": "execute_result"
    }
   ],
   "source": [
    "is_numeric = ~np.isnan(data)\n",
    "is_numeric[:]"
   ]
  },
  {
   "cell_type": "code",
   "execution_count": 4,
   "metadata": {},
   "outputs": [
    {
     "data": {
      "text/plain": [
       "array([0, 2, 2, 2, 1])"
      ]
     },
     "metadata": {},
     "output_type": "display_data"
    },
    {
     "data": {
      "text/plain": [
       "array([[1],\n",
       "       [2],\n",
       "       [3],\n",
       "       [4]])"
      ]
     },
     "metadata": {},
     "output_type": "display_data"
    },
    {
     "data": {
      "text/plain": [
       "1"
      ]
     },
     "metadata": {},
     "output_type": "display_data"
    },
    {
     "data": {
      "text/plain": [
       "4"
      ]
     },
     "metadata": {},
     "output_type": "display_data"
    },
    {
     "data": {
      "text/plain": [
       "[1, 3, 5]"
      ]
     },
     "execution_count": 4,
     "metadata": {},
     "output_type": "execute_result"
    }
   ],
   "source": [
    "numeric_cols = (~np.isnan(data)).sum(0)\n",
    "cols_with_numbers = np.argwhere(numeric_cols > 0)\n",
    "first_col_with_number = cols_with_numbers.min()\n",
    "last_col_with_numer = cols_with_numbers.max()\n",
    "\n",
    "n_columns = last_col_with_numer - first_col_with_number + 1\n",
    "\n",
    "n_columns_per_group = n_columns / self.h_split\n",
    "\n",
    "display(numeric_cols, cols_with_numbers, first_col_with_number, last_col_with_numer)\n",
    "\n",
    "col_splits = [\n",
    "    first_col_with_number + bisect.bisect_left(np.arange(n_columns), c * n_columns_per_group)\n",
    "    for c in range(0, self.h_split)\n",
    "] + [last_col_with_numer+1]\n",
    "\n",
    "col_splits\n",
    "\n"
   ]
  },
  {
   "cell_type": "code",
   "execution_count": 112,
   "metadata": {},
   "outputs": [
    {
     "data": {
      "text/plain": [
       "array([[False, False, False, False,  True],\n",
       "       [False,  True,  True,  True, False],\n",
       "       [False,  True,  True,  True, False],\n",
       "       [False, False, False, False, False]])"
      ]
     },
     "execution_count": 112,
     "metadata": {},
     "output_type": "execute_result"
    }
   ],
   "source": [
    "A  = ~np.isnan(data)\n",
    "A"
   ]
  },
  {
   "cell_type": "code",
   "execution_count": 113,
   "metadata": {},
   "outputs": [
    {
     "data": {
      "text/plain": [
       "array([[False, False, False, False, False],\n",
       "       [False,  True,  True, False, False],\n",
       "       [False,  True,  True, False, False],\n",
       "       [False, False, False, False, False]])"
      ]
     },
     "metadata": {},
     "output_type": "display_data"
    },
    {
     "data": {
      "text/plain": [
       "array([[False, False, False, False, False],\n",
       "       [False, False, False,  True, False],\n",
       "       [False, False, False,  True, False],\n",
       "       [False, False, False, False, False]])"
      ]
     },
     "metadata": {},
     "output_type": "display_data"
    },
    {
     "data": {
      "text/plain": [
       "array([[False, False, False, False,  True],\n",
       "       [False, False, False, False, False],\n",
       "       [False, False, False, False, False],\n",
       "       [False, False, False, False, False]])"
      ]
     },
     "metadata": {},
     "output_type": "display_data"
    }
   ],
   "source": [
    "import itertools\n",
    "for splits in itertools.pairwise(col_splits):\n",
    "    matrix = A.copy()\n",
    "    matrix[:, :splits[0]] = False\n",
    "    matrix[:, splits[1]:] = False\n",
    "    display(matrix)"
   ]
  },
  {
   "cell_type": "code",
   "execution_count": 87,
   "metadata": {},
   "outputs": [
    {
     "data": {
      "text/plain": [
       "[0, 2]"
      ]
     },
     "execution_count": 87,
     "metadata": {},
     "output_type": "execute_result"
    }
   ],
   "source": [
    "col_splits"
   ]
  },
  {
   "cell_type": "code",
   "execution_count": 37,
   "metadata": {},
   "outputs": [
    {
     "data": {
      "text/plain": [
       "True"
      ]
     },
     "execution_count": 37,
     "metadata": {},
     "output_type": "execute_result"
    }
   ],
   "source": [
    "# Test how to stack the resulting matrices, and check whether every cell is represented once\n",
    "\n",
    "from eitprocessing.roi_selection.gridselection import GridSelection\n",
    "import numpy as np\n",
    "\n",
    "g = GridSelection(3, 4, False)\n",
    "data = np.full((32, 32), 1)\n",
    "\n",
    "matrices = g.find_grid(data)\n",
    "np.array_equal(np.sum(np.stack(matrices, axis=-1), axis=-1), np.ones(data.shape))"
   ]
  },
  {
   "cell_type": "code",
   "execution_count": 35,
   "metadata": {},
   "outputs": [
    {
     "data": {
      "text/plain": [
       "[array([[ True, False, False],\n",
       "        [False,  True, False],\n",
       "        [False, False,  True]]),\n",
       " array([[ True, False],\n",
       "        [False,  True]])]"
      ]
     },
     "execution_count": 35,
     "metadata": {},
     "output_type": "execute_result"
    }
   ],
   "source": [
    "# Test way to parse string to True/False matrix\n",
    "\n",
    "result = 'TFF,FTF,FFT;TF,FT'\n",
    "array = [np.array([tuple(row) for row in matrix.split(',')]) == 'T' for matrix in result.split(';')] \n",
    "array"
   ]
  },
  {
   "cell_type": "code",
   "execution_count": 33,
   "metadata": {},
   "outputs": [
    {
     "data": {
      "text/plain": [
       "array([[ 0,  1,  2,  3],\n",
       "       [ 4,  5,  6,  7],\n",
       "       [ 8,  9, 10, 11]])"
      ]
     },
     "execution_count": 33,
     "metadata": {},
     "output_type": "execute_result"
    }
   ],
   "source": [
    "# Test way to create a layout map of the returned matrices\n",
    "\n",
    "v_split = 3\n",
    "h_split = 4\n",
    "n_groups = v_split * h_split\n",
    "np.reshape(np.arange(n_groups), (v_split, h_split))"
   ]
  }
 ],
 "metadata": {
  "kernelspec": {
   "display_name": "alive",
   "language": "python",
   "name": "python3"
  },
  "language_info": {
   "codemirror_mode": {
    "name": "ipython",
    "version": 3
   },
   "file_extension": ".py",
   "mimetype": "text/x-python",
   "name": "python",
   "nbconvert_exporter": "python",
   "pygments_lexer": "ipython3",
   "version": "3.10.5"
  },
  "orig_nbformat": 4
 },
 "nbformat": 4,
 "nbformat_minor": 2
}
