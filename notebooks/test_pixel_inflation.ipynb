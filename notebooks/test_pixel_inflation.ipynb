{
 "cells": [
  {
   "cell_type": "code",
   "execution_count": 1,
   "metadata": {},
   "outputs": [],
   "source": [
    "import numpy as np\n",
    "\n",
    "from eitprocessing.datahandling.breath import Breath\n",
    "from eitprocessing.datahandling.continuousdata import ContinuousData\n",
    "from eitprocessing.datahandling.eitdata import EITData\n",
    "from eitprocessing.datahandling.intervaldata import IntervalData\n",
    "from eitprocessing.datahandling.loading import load_eit_data\n",
    "from eitprocessing.datahandling.sequence import Sequence\n",
    "from eitprocessing.features.breath_detection import BreathDetection"
   ]
  },
  {
   "cell_type": "code",
   "execution_count": 2,
   "metadata": {},
   "outputs": [],
   "source": [
    "path = ..."
   ]
  },
  {
   "cell_type": "code",
   "execution_count": 3,
   "metadata": {},
   "outputs": [],
   "source": [
    "sequence = load_eit_data(\n",
    "    path,\n",
    "    vendor=\"draeger\",\n",
    ")"
   ]
  },
  {
   "cell_type": "code",
   "execution_count": 4,
   "metadata": {},
   "outputs": [],
   "source": [
    "sequence = sequence.t[55940:55970]"
   ]
  },
  {
   "cell_type": "code",
   "execution_count": 10,
   "metadata": {},
   "outputs": [],
   "source": [
    "eit_data = sequence.eit_data[\"raw\"]\n",
    "continuous_data = sequence.continuous_data[\"global_impedance_(raw)\"]\n",
    "\n",
    "# bd_kwargs = self.breath_detection_kwargs.copy()\n",
    "breath_detection = BreathDetection()\n",
    "breaths = breath_detection.find_breaths(continuous_data)\n",
    "\n",
    "middle_times = np.array(\n",
    "    [np.argmax(eit_data.time == middle_time) for middle_time in [breath.middle_time for breath in breaths.values]],\n",
    ")\n",
    "\n",
    "_, rows, cols = eit_data.pixel_impedance.shape\n",
    "\n",
    "pixel_inflations = np.empty((len(breaths), rows, cols), dtype=object)\n",
    "for row in range(rows):\n",
    "    for col in range(cols):\n",
    "        end = []\n",
    "        middle = []\n",
    "\n",
    "        if not np.isnan(\n",
    "            eit_data.pixel_impedance[:, row, col],\n",
    "        ).any() and not np.all(\n",
    "            eit_data.pixel_impedance[:, row, col] == 0.0,\n",
    "        ):\n",
    "            start = [\n",
    "                np.argmin(\n",
    "                    eit_data.pixel_impedance[\n",
    "                        middle_times[i] : middle_times[i + 1],\n",
    "                        row,\n",
    "                        col,\n",
    "                    ],\n",
    "                )\n",
    "                + middle_times[i]\n",
    "                for i in range(len(middle_times) - 1)\n",
    "            ]\n",
    "\n",
    "            end = [start[i + 1] for i in range(len(start) - 1)]\n",
    "            middle = [\n",
    "                np.argmax(\n",
    "                    eit_data.pixel_impedance[start[i] : start[i + 1], row, col],\n",
    "                )\n",
    "                + start[i]\n",
    "                for i in range(len(start) - 1)\n",
    "            ]\n",
    "\n",
    "            time = eit_data.time\n",
    "\n",
    "            inflations = [\n",
    "                Breath(time[s], time[m], time[e])\n",
    "                for s, m, e in zip(\n",
    "                    start[:-1],\n",
    "                    middle,\n",
    "                    end,\n",
    "                    strict=True,\n",
    "                )\n",
    "            ]\n",
    "            # First and last inflation are not detected by definition (need two breaths to find one inflation)\n",
    "            inflations = [None, *inflations, None]\n",
    "\n",
    "        else:\n",
    "            inflations = None\n",
    "        pixel_inflations[:, row, col] = inflations\n",
    "\n",
    "pixel_inflations_container = IntervalData(\n",
    "    label=\"pixel inflations\",\n",
    "    name=\"Pixel in- and deflation timing as determined by PixelInflation\",\n",
    "    unit=None,\n",
    "    category=\"breath\",\n",
    "    intervals=[(time[middle_times[i]], time[middle_times[i + 1]]) for i in range(len(middle_times) - 1)],\n",
    "    values=pixel_inflations,\n",
    "    parameters={},\n",
    "    derived_from=[eit_data],\n",
    ")\n",
    "\n",
    "sequence.interval_data.add(pixel_inflations_container)"
   ]
  }
 ],
 "metadata": {
  "kernelspec": {
   "display_name": "ALIVE",
   "language": "python",
   "name": "python3"
  },
  "language_info": {
   "codemirror_mode": {
    "name": "ipython",
    "version": 3
   },
   "file_extension": ".py",
   "mimetype": "text/x-python",
   "name": "python",
   "nbconvert_exporter": "python",
   "pygments_lexer": "ipython3",
   "version": "3.10.11"
  }
 },
 "nbformat": 4,
 "nbformat_minor": 2
}
