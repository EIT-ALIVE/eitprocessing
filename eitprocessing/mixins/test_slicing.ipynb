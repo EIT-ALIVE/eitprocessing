{
 "cells": [
  {
   "cell_type": "code",
   "execution_count": 1,
   "metadata": {},
   "outputs": [],
   "source": [
    "from eitprocessing.mixins.slicing import SelectByIndex\n",
    "from dataclasses import dataclass, is_dataclass\n",
    "from eitprocessing.eit_data.vendor import Vendor\n",
    "from eitprocessing.eit_data.draeger import DraegerEITData\n",
    "from eitprocessing.eit_data.eit_data_variant import EITDataVariant\n",
    "from typing_extensions import Self\n",
    "\n",
    "import os\n",
    "import pytest\n",
    "from pprint import pprint\n",
    "import bisect\n",
    "import numpy as np\n"
   ]
  },
  {
   "cell_type": "code",
   "execution_count": 2,
   "metadata": {},
   "outputs": [
    {
     "data": {
      "text/plain": [
       "array([75628.471, 75628.521, 75628.571, ..., 75719.321, 75719.371,\n",
       "       75719.421])"
      ]
     },
     "execution_count": 2,
     "metadata": {},
     "output_type": "execute_result"
    }
   ],
   "source": [
    "\n",
    "draeger_file1 = '/home/dbodor/git/EIT-ALIVE/eitprocessing/tests/test_data/Draeger_Test3.bin'\n",
    "data = DraegerEITData.from_path(draeger_file1)\n",
    "\n",
    "# pprint(data)\n",
    "data.time\n"
   ]
  },
  {
   "cell_type": "code",
   "execution_count": 3,
   "metadata": {},
   "outputs": [
    {
     "name": "stdout",
     "output_type": "stream",
     "text": [
      "DraegerEITData_139828016111744\n",
      "Frame (10) of <DraegerEITData_139828016111744>\n",
      "Frame (10) of <DraegerEITData_139828016111744>\n",
      "Slice (0-9) of <DraegerEITData_139828016111744>\n",
      "No frames selected from <DraegerEITData_139828016111744>\n",
      "Slice (10-11) of <DraegerEITData_139828016111744>\n"
     ]
    }
   ],
   "source": [
    "cutoff = 10\n",
    "print(data.label)\n",
    "print(data[cutoff].label)\n",
    "print(data[cutoff:cutoff+1].label)\n",
    "print(data[0:cutoff].label)\n",
    "print(data[cutoff:0].label)\n",
    "print(data[cutoff:cutoff+2].label)\n"
   ]
  },
  {
   "cell_type": "code",
   "execution_count": 14,
   "metadata": {},
   "outputs": [
    {
     "name": "stdout",
     "output_type": "stream",
     "text": [
      "[75628.471 75628.521 75628.571]\n",
      "[75628.471 75628.521 75628.571]\n",
      "[75628.471 75628.521]\n",
      "\n",
      "[75628.471 75628.521 75628.571]\n",
      "[75628.521 75628.571]\n",
      "[75628.521]\n",
      "\n",
      "XXXXXXXXXXXXXXXXXXXXX\n",
      "\n",
      "[75628.471 75628.521 75628.571]\n",
      "[75628.471 75628.521 75628.571]\n",
      "[75628.471 75628.521 75628.571]\n",
      "\n",
      "[75628.471 75628.521 75628.571]\n",
      "[75628.471 75628.521 75628.571]\n",
      "[75628.471 75628.521 75628.571]\n",
      "\n",
      "XXXXXXXXXXXXXXXXXXXXX\n",
      "\n",
      "[75628.471 75628.521]\n",
      "[75628.471 75628.521]\n",
      "[75628.471 75628.521]\n",
      "\n",
      "[75628.521]\n",
      "[75628.521]\n",
      "[75628.521]\n"
     ]
    }
   ],
   "source": [
    "tp0 = 75628.471\n",
    "tp2 = 75628.571\n",
    "\n",
    "print(data.select_by_time(0,tp2).time)\n",
    "print(data.select_by_time(0,tp2, start_inclusive=False).time)\n",
    "print(data.select_by_time(0,tp2, end_inclusive=False).time)\n",
    "print(\"\")\n",
    "print(data.select_by_time(tp0,tp2).time)\n",
    "print(data.select_by_time(tp0,tp2, start_inclusive=False).time)\n",
    "print(data.select_by_time(tp0,tp2, start_inclusive=False, end_inclusive=False).time)\n",
    "\n",
    "print(\"\")\n",
    "print('XXXXXXXXXXXXXXXXXXXXX')\n",
    "print(\"\")\n",
    "\n",
    "tp0 = tp0-0.001\n",
    "tp2 = tp2+0.001\n",
    "\n",
    "print(data.select_by_time(0,tp2).time)\n",
    "print(data.select_by_time(0,tp2, start_inclusive=False).time)\n",
    "print(data.select_by_time(0,tp2, end_inclusive=False).time)\n",
    "print(\"\")\n",
    "print(data.select_by_time(tp0,tp2).time)\n",
    "print(data.select_by_time(tp0,tp2, start_inclusive=False).time)\n",
    "print(data.select_by_time(tp0,tp2, start_inclusive=False, end_inclusive=False).time)\n",
    "\n",
    "print(\"\")\n",
    "print('XXXXXXXXXXXXXXXXXXXXX')\n",
    "print(\"\")\n",
    "\n",
    "tp0 = tp0+0.002\n",
    "tp2 = tp2-0.002\n",
    "\n",
    "print(data.select_by_time(0,tp2).time)\n",
    "print(data.select_by_time(0,tp2, start_inclusive=False).time)\n",
    "print(data.select_by_time(0,tp2, end_inclusive=False).time)\n",
    "print(\"\")\n",
    "print(data.select_by_time(tp0,tp2).time)\n",
    "print(data.select_by_time(tp0,tp2, start_inclusive=False).time)\n",
    "print(data.select_by_time(tp0,tp2, start_inclusive=False, end_inclusive=False).time)\n"
   ]
  },
  {
   "cell_type": "code",
   "execution_count": null,
   "metadata": {},
   "outputs": [],
   "source": []
  },
  {
   "cell_type": "code",
   "execution_count": null,
   "metadata": {},
   "outputs": [],
   "source": []
  },
  {
   "cell_type": "code",
   "execution_count": null,
   "metadata": {},
   "outputs": [],
   "source": []
  }
 ],
 "metadata": {
  "kernelspec": {
   "display_name": "alive",
   "language": "python",
   "name": "python3"
  },
  "language_info": {
   "codemirror_mode": {
    "name": "ipython",
    "version": 3
   },
   "file_extension": ".py",
   "mimetype": "text/x-python",
   "name": "python",
   "nbconvert_exporter": "python",
   "pygments_lexer": "ipython3",
   "version": "3.10.11"
  }
 },
 "nbformat": 4,
 "nbformat_minor": 2
}
