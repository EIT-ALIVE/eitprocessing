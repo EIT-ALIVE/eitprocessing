{
 "cells": [
  {
   "cell_type": "code",
   "execution_count": 1,
   "metadata": {},
   "outputs": [],
   "source": [
    "from eitprocessing.eit_data import EITData\n",
    "from eitprocessing.eit_data.draeger import DraegerEITData\n",
    "from eitprocessing.eit_data.timpel import TimpelEITData\n",
    "from eitprocessing.mixins.equality import EquivalenceError"
   ]
  },
  {
   "cell_type": "code",
   "execution_count": 2,
   "metadata": {},
   "outputs": [
    {
     "data": {
      "text/plain": [
       "array([72758.105, 72758.155, 72758.205, ..., 73357.955, 73358.005,\n",
       "       73358.055])"
      ]
     },
     "execution_count": 2,
     "metadata": {},
     "output_type": "execute_result"
    }
   ],
   "source": [
    "data = DraegerEITData.from_path(\"/home/dbodor/git/EIT-ALIVE/eitprocessing/tests/test_data/Draeger_Test2.bin\")\n",
    "data2 = DraegerEITData.from_path(\"/home/dbodor/git/EIT-ALIVE/eitprocessing/tests/test_data/Draeger_Test3.bin\")\n",
    "timpel_data = TimpelEITData.from_path(\"/home/dbodor/git/EIT-ALIVE/eitprocessing/tests/test_data/Timpel_Test.txt\")\n",
    "\n",
    "# pprint(data)\n",
    "data.time"
   ]
  },
  {
   "cell_type": "code",
   "execution_count": 3,
   "metadata": {},
   "outputs": [
    {
     "name": "stdout",
     "output_type": "stream",
     "text": [
      "should be True\n",
      "True\n",
      "True\n",
      "True\n",
      "True\n",
      "\n",
      "should be False\n",
      "False\n",
      "False\n",
      "False\n",
      "False\n"
     ]
    },
    {
     "name": "stderr",
     "output_type": "stream",
     "text": [
      "/home/dbodor/git/EIT-ALIVE/eitprocessing/eitprocessing/mixins/slicing.py:52: UserWarning: No starting or end timepoint was selected.\n",
      "  warnings.warn(\"No starting or end timepoint was selected.\")\n"
     ]
    }
   ],
   "source": [
    "print(\"should be True\")\n",
    "print(data == data)  # noqa: PLR0124\n",
    "print(data[10] == data[10])\n",
    "print(data[:10] == data[0:10])\n",
    "print(data[:] == data)\n",
    "\n",
    "print(\"\\nshould be False\")\n",
    "print(data == data2)\n",
    "print(data[:10] == data[10])\n",
    "print(data[:10] == data[2:10])\n",
    "print(data[:10] == data)"
   ]
  },
  {
   "cell_type": "code",
   "execution_count": 4,
   "metadata": {},
   "outputs": [
    {
     "name": "stdout",
     "output_type": "stream",
     "text": [
      "should all be True\n",
      "True\n",
      "True\n",
      "True\n",
      "\n",
      "should all be False\n",
      "False\n",
      "False\n",
      "False\n",
      "False\n",
      "\n",
      "error was correctly raised\n"
     ]
    }
   ],
   "source": [
    "print(\"should all be True\")\n",
    "print(data.isequivalent(data))\n",
    "print(data.isequivalent(data2))\n",
    "print(DraegerEITData.isequivalent(data, data2))\n",
    "\n",
    "print(\"\\nshould all be False\")\n",
    "print(data.isequivalent(timpel_data, False))\n",
    "print(timpel_data.isequivalent(data))\n",
    "print(EITData.isequivalent(timpel_data, data))\n",
    "print(DraegerEITData.isequivalent(timpel_data, data))\n",
    "\n",
    "try:\n",
    "    _ = DraegerEITData.isequivalent(timpel_data, data, True)\n",
    "    print(\"\\nno error was raised, but it should have!\")\n",
    "except EquivalenceError:\n",
    "    print(\"\\nerror was correctly raised\")"
   ]
  },
  {
   "cell_type": "code",
   "execution_count": 5,
   "metadata": {},
   "outputs": [
    {
     "name": "stdout",
     "output_type": "stream",
     "text": [
      "should print False/True/False and then catch error\n",
      "\n",
      "False\n",
      "True\n",
      "False\n",
      "\n",
      "error was correctly raised\n"
     ]
    }
   ],
   "source": [
    "data_new = DraegerEITData.from_path(\"/home/dbodor/git/EIT-ALIVE/eitprocessing/tests/test_data/Draeger_Test3.bin\")\n",
    "\n",
    "print(\"should print False/True/False and then catch error\\n\")\n",
    "\n",
    "print(data_new == data)\n",
    "print(data_new.isequivalent(data))\n",
    "\n",
    "data_new.sample_frequency = 25\n",
    "print(data_new.isequivalent(data))\n",
    "\n",
    "try:\n",
    "    _ = data_new.isequivalent(data, raise_=True)\n",
    "    print(\"\\nno error was raised, but it should have!\")\n",
    "except EquivalenceError:\n",
    "    print(\"\\nerror was correctly raised\")"
   ]
  }
 ],
 "metadata": {
  "kernelspec": {
   "display_name": ".venv",
   "language": "python",
   "name": "python3"
  },
  "language_info": {
   "codemirror_mode": {
    "name": "ipython",
    "version": 3
   },
   "file_extension": ".py",
   "mimetype": "text/x-python",
   "name": "python",
   "nbconvert_exporter": "python",
   "pygments_lexer": "ipython3",
   "version": "3.10.15"
  }
 },
 "nbformat": 4,
 "nbformat_minor": 2
}
