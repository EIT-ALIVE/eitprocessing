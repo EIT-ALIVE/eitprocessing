{
 "cells": [
  {
   "cell_type": "code",
   "execution_count": 1,
   "metadata": {},
   "outputs": [],
   "source": [
    "from eitprocessing.mixins.slicing import SelectByIndex\n",
    "from dataclasses import dataclass, is_dataclass\n",
    "from eitprocessing.eit_data.vendor import Vendor\n",
    "from eitprocessing.eit_data.draeger import DraegerEITData\n",
    "from eitprocessing.eit_data.eit_data_variant import EITDataVariant\n",
    "from typing_extensions import Self\n",
    "\n",
    "import os\n",
    "import pytest\n",
    "from pprint import pprint\n",
    "import bisect\n",
    "import numpy as np\n"
   ]
  },
  {
   "cell_type": "code",
   "execution_count": 2,
   "metadata": {},
   "outputs": [
    {
     "data": {
      "text/plain": [
       "array([75628.471, 75628.521, 75628.571, ..., 75719.321, 75719.371,\n",
       "       75719.421])"
      ]
     },
     "execution_count": 2,
     "metadata": {},
     "output_type": "execute_result"
    }
   ],
   "source": [
    "\n",
    "draeger_file1 = '/home/dbodor/git/EIT-ALIVE/eitprocessing/tests/test_data/Draeger_Test3.bin'\n",
    "data = DraegerEITData.from_path(draeger_file1)\n",
    "\n",
    "# pprint(data)\n",
    "data.time\n"
   ]
  },
  {
   "cell_type": "code",
   "execution_count": 3,
   "metadata": {},
   "outputs": [
    {
     "name": "stdout",
     "output_type": "stream",
     "text": [
      "DraegerEITData_140210416651520\n",
      "Frame (10) of <DraegerEITData_140210416651520>\n",
      "Frame (10) of <DraegerEITData_140210416651520>\n",
      "Frames (0-9) of <DraegerEITData_140210416651520>\n",
      "No frames selected from <DraegerEITData_140210416651520>\n",
      "Frames (10-11) of <DraegerEITData_140210416651520>\n"
     ]
    }
   ],
   "source": [
    "cutoff = 10\n",
    "print(data.label)\n",
    "print(data[cutoff].label)\n",
    "print(data[cutoff:cutoff+1].label)\n",
    "print(data[0:cutoff].label)\n",
    "print(data[cutoff:0].label)\n",
    "print(data[cutoff:cutoff+2].label)\n"
   ]
  },
  {
   "cell_type": "code",
   "execution_count": 10,
   "metadata": {},
   "outputs": [
    {
     "name": "stdout",
     "output_type": "stream",
     "text": [
      "Slicing at exact timepoints\n",
      "These should all be identical\n",
      "[75628.471 75628.521]\n",
      "[75628.471 75628.521]\n",
      "[75628.471 75628.521]\n",
      "\n",
      "[75628.471 75628.521]\n",
      "[75628.471 75628.521]\n",
      "[75628.471 75628.521]\n",
      "[75628.471 75628.521 75628.571]\n"
     ]
    }
   ],
   "source": [
    "print('Slicing at exact timepoints')\n",
    "print('These should all be identical')\n",
    "\n",
    "tp0 = 75628.471\n",
    "tp2 = 75628.571\n",
    "\n",
    "print(data.select_by_time(0,tp2).time)\n",
    "print(data.select_by_time(0,tp2, start_inclusive=False).time)\n",
    "print(data.select_by_time(0,tp2, end_inclusive=False).time)\n",
    "print(\"\")\n",
    "print(data.select_by_time(tp0,tp2).time)\n",
    "print(data.select_by_time(tp0,tp2, start_inclusive=False).time)\n",
    "print(data.select_by_time(tp0,tp2, start_inclusive=False, end_inclusive=False).time)\n",
    "print(data.select_by_time(tp0,tp2, start_inclusive=False, end_inclusive=True).time)\n"
   ]
  },
  {
   "cell_type": "code",
   "execution_count": 5,
   "metadata": {},
   "outputs": [
    {
     "name": "stdout",
     "output_type": "stream",
     "text": [
      "Slicing in between timepoints\n",
      "for each `False` should exclude be 1 shorter\n",
      "True True: [75628.471 75628.521 75628.571]\n",
      "True False: [75628.471 75628.521]\n",
      "False True: [75628.521 75628.571]\n",
      "False False: [75628.521]\n"
     ]
    }
   ],
   "source": [
    "print('Slicing in between timepoints')\n",
    "print('for each `False` should exclude be 1 shorter')\n",
    "\n",
    "tp0_ = tp0 + 0.01\n",
    "tp2_ = tp2 - 0.01\n",
    "\n",
    "for start_incl in (True, False):\n",
    "    for end_incl in (True, False):\n",
    "        print(start_incl, end_incl, end=\": \")\n",
    "        print(data.select_by_time(tp0_,tp2_,  start_incl, end_incl).time)\n"
   ]
  },
  {
   "cell_type": "code",
   "execution_count": 11,
   "metadata": {},
   "outputs": [
    {
     "name": "stdout",
     "output_type": "stream",
     "text": [
      "Slicing before first or after last timepoint\n",
      "each set of 3 should be identical\n",
      "\n",
      "75628.471\n",
      "slice before 1st timepoint 75628.46100000001\n",
      "[75628.471 75628.521 75628.571]\n",
      "[75628.471 75628.521]\n",
      "[75628.471 75628.521]\n",
      "\n",
      "slice after last timepoint: 75719.431\n",
      "[75719.321 75719.371 75719.421]\n",
      "[75719.321 75719.371 75719.421]\n",
      "[75719.321 75719.371 75719.421]\n"
     ]
    }
   ],
   "source": [
    "print('Slicing before first or after last timepoint')\n",
    "print('each set of 3 should be identical')\n",
    "print('')\n",
    "\n",
    "tp0__ = tp0 - 0.01\n",
    "tp_2 = 75719.321\n",
    "tpx__ = 75719.421 + 0.01\n",
    "\n",
    "print(tp0)\n",
    "print(f'slice before 1st timepoint {tp0__}')\n",
    "print(data.time[:3])\n",
    "print(data.select_by_time(tp0, tp2, start_inclusive=True).time)\n",
    "print(data.select_by_time(tp0__, tp2, start_inclusive=False).time)\n",
    "\n",
    "print('')\n",
    "\n",
    "print(f'slice after last timepoint: {tpx__}')\n",
    "print(data.time[-3:])\n",
    "print(data.select_by_time(tp_2, tpx__, end_inclusive=True).time)\n",
    "print(data.select_by_time(tp_2, tpx__, end_inclusive=False).time)\n"
   ]
  },
  {
   "cell_type": "code",
   "execution_count": 7,
   "metadata": {},
   "outputs": [
    {
     "data": {
      "text/plain": [
       "array([75628.521])"
      ]
     },
     "execution_count": 7,
     "metadata": {},
     "output_type": "execute_result"
    }
   ],
   "source": [
    "data[1].time\n"
   ]
  },
  {
   "cell_type": "code",
   "execution_count": 14,
   "metadata": {},
   "outputs": [
    {
     "data": {
      "text/plain": [
       "array([75628.521])"
      ]
     },
     "execution_count": 14,
     "metadata": {},
     "output_type": "execute_result"
    }
   ],
   "source": [
    "data.select_by_time(75628.521, 75628.521, end_inclusive=True).time\n"
   ]
  },
  {
   "cell_type": "code",
   "execution_count": 9,
   "metadata": {},
   "outputs": [
    {
     "name": "stdout",
     "output_type": "stream",
     "text": [
      "75628.521\n",
      "75628.621\n"
     ]
    },
    {
     "data": {
      "text/plain": [
       "array([75628.471, 75628.521, 75628.571])"
      ]
     },
     "execution_count": 9,
     "metadata": {},
     "output_type": "execute_result"
    }
   ],
   "source": [
    "tp1_ = data.time[1] - 0.01\n",
    "tp4_ = data.time[3] - 0.01\n",
    "\n",
    "print(data.time[1])\n",
    "print(data.time[3])\n",
    "data.select_by_time(tp1_, tp4_).time\n"
   ]
  },
  {
   "cell_type": "code",
   "execution_count": 17,
   "metadata": {},
   "outputs": [
    {
     "data": {
      "text/plain": [
       "array([75628.521, 75628.571])"
      ]
     },
     "execution_count": 17,
     "metadata": {},
     "output_type": "execute_result"
    }
   ],
   "source": [
    "data.t[75628.521:75628.621].time\n"
   ]
  }
 ],
 "metadata": {
  "kernelspec": {
   "display_name": "alive",
   "language": "python",
   "name": "python3"
  },
  "language_info": {
   "codemirror_mode": {
    "name": "ipython",
    "version": 3
   },
   "file_extension": ".py",
   "mimetype": "text/x-python",
   "name": "python",
   "nbconvert_exporter": "python",
   "pygments_lexer": "ipython3",
   "version": "3.10.11"
  }
 },
 "nbformat": 4,
 "nbformat_minor": 2
}
